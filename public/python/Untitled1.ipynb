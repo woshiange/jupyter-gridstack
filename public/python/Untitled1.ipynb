{
 "cells": [
  {
   "cell_type": "code",
   "execution_count": 7,
   "id": "dda45641-1c08-41eb-b713-732f887a3c63",
   "metadata": {},
   "outputs": [
    {
     "data": {
      "text/html": [
       "<div>\n",
       "<style scoped>\n",
       "    .dataframe tbody tr th:only-of-type {\n",
       "        vertical-align: middle;\n",
       "    }\n",
       "\n",
       "    .dataframe tbody tr th {\n",
       "        vertical-align: top;\n",
       "    }\n",
       "\n",
       "    .dataframe thead th {\n",
       "        text-align: right;\n",
       "    }\n",
       "</style>\n",
       "<table border=\"1\" class=\"dataframe\">\n",
       "  <thead>\n",
       "    <tr style=\"text-align: right;\">\n",
       "      <th></th>\n",
       "      <th>x</th>\n",
       "      <th>yo</th>\n",
       "      <th>y1</th>\n",
       "      <th>yrect</th>\n",
       "      <th>w</th>\n",
       "      <th>h</th>\n",
       "      <th>thing</th>\n",
       "      <th>color</th>\n",
       "    </tr>\n",
       "  </thead>\n",
       "  <tbody>\n",
       "    <tr>\n",
       "      <th>0</th>\n",
       "      <td>1</td>\n",
       "      <td>1.0</td>\n",
       "      <td>3.0</td>\n",
       "      <td>2</td>\n",
       "      <td>0.2</td>\n",
       "      <td>0.5</td>\n",
       "      <td>orange</td>\n",
       "      <td>orange</td>\n",
       "    </tr>\n",
       "    <tr>\n",
       "      <th>1</th>\n",
       "      <td>2</td>\n",
       "      <td>2.0</td>\n",
       "      <td>5.0</td>\n",
       "      <td>3</td>\n",
       "      <td>0.2</td>\n",
       "      <td>1.0</td>\n",
       "      <td>banana</td>\n",
       "      <td>yellow</td>\n",
       "    </tr>\n",
       "    <tr>\n",
       "      <th>2</th>\n",
       "      <td>3</td>\n",
       "      <td>0.5</td>\n",
       "      <td>2.5</td>\n",
       "      <td>1</td>\n",
       "      <td>0.2</td>\n",
       "      <td>1.0</td>\n",
       "      <td>apple</td>\n",
       "      <td>red</td>\n",
       "    </tr>\n",
       "  </tbody>\n",
       "</table>\n",
       "</div>"
      ],
      "text/plain": [
       "   x   yo   y1  yrect    w    h   thing   color\n",
       "0  1  1.0  3.0      2  0.2  0.5  orange  orange\n",
       "1  2  2.0  5.0      3  0.2  1.0  banana  yellow\n",
       "2  3  0.5  2.5      1  0.2  1.0   apple     red"
      ]
     },
     "execution_count": 7,
     "metadata": {},
     "output_type": "execute_result"
    }
   ],
   "source": [
    "import pandas as pd\n",
    "from bokeh.models import ColumnDataSource, HoverTool\n",
    "from bokeh.plotting import figure, show\n",
    "\n",
    "#assemble your data via pandas etc containing exactly the inputs you need to drive the renderers (i.e. do all your preprocessing etc.)\n",
    "#carry along whatever fields you want to show via hover too within the dataframe\n",
    "#so for the box/whisker box plot you're making segments (needs xo,x1,yo,y1) and rects (needs x,y,width,height) where xy are centre coords\n",
    "#one good shortcut for your box plot is that xo, x1, and x will all be the same and we can use one field for all those args\n",
    "\n",
    "df = pd.DataFrame(data={'x':[1,2,3],'yo':[1,2,0.5],'y1':[3,5,2.5],'yrect':[2,3,1],'w':[0.2,0.2,0.2],'h':[0.5,1,1]\n",
    "                       ,'thing':['orange','banana','apple'],'color':['orange','yellow','red']})\n",
    "df"
   ]
  }
 ],
 "metadata": {
  "kernelspec": {
   "display_name": "Python 3 (ipykernel)",
   "language": "python",
   "name": "python3"
  },
  "language_info": {
   "codemirror_mode": {
    "name": "ipython",
    "version": 3
   },
   "file_extension": ".py",
   "mimetype": "text/x-python",
   "name": "python",
   "nbconvert_exporter": "python",
   "pygments_lexer": "ipython3",
   "version": "3.11.3"
  }
 },
 "nbformat": 4,
 "nbformat_minor": 5
}
